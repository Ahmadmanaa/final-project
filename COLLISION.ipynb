{
    "cells": [
        {
            "cell_type": "markdown",
            "metadata": {
                "collapsed": true
            },
            "source": "# <h1 align=center><font size=\"5\">  Capstone Project - Car accident severity </font></h1>"
        },
        {
            "cell_type": "markdown",
            "metadata": {},
            "source": "## A.introduction"
        },
        {
            "cell_type": "markdown",
            "metadata": {},
            "source": "The effective treatment of road accidents and thus the enhancment of road safety is a major concern to societies, due to the losses in human lives and the economic and social cost.  \n\nThe Seattle government try find the best solution to prevent avoidable accident by warn drivers to be more careful in critical situation by given weather, road conditions about the possibility of you getting into a car accident and how severe it would be, so that you would drive more carefully, we will handle with many attribute it could help us to avoid this accident,There could be some tendencies of driving habit with day of week that could help us know about factors impacting the collisions better. (For Example, people tend to drink on friday or saturday night, drunk people loves to speeding, speeding lead to collisions).  \n\nThe main purpose for the project to provide advices for target audience such as police , rescue group ,insurance companies and drivers themselves to make insightful decision it could help to reducing accident and accident severity.\n"
        },
        {
            "cell_type": "markdown",
            "metadata": {},
            "source": "## B.Data Description\n"
        },
        {
            "cell_type": "markdown",
            "metadata": {},
            "source": "### B.1.Data acquisition "
        },
        {
            "cell_type": "markdown",
            "metadata": {},
            "source": "The Data provided by Seattle Police Department  and  Traffic Records department from 2004 to Present, in total there are 37 attribute (independent variables ) , The dependent variable (SEVERITYCODE) contains numbers of the correspond to different level of severity caused by accident from 0 to 4 , are as follows:\n\n 0: Little to no Probability (Clear Condition)\\   \n \n 1: very low probability (Chance or property damage)\\  \n \n 2: low probability (Chance of injury)\\  \n \n 3: Mid probability (Chance of serious injury)\\  \n \n 4: High probability (Chance of fatality)\\  \n \nSome attribute have missing data, have numerical and categorical types of data need for preprocessing before any future processing.\n"
        },
        {
            "cell_type": "markdown",
            "metadata": {},
            "source": "### B.2.Data Preprocessing \n"
        },
        {
            "cell_type": "markdown",
            "metadata": {},
            "source": "\nThe dataset consist 194,674 rows and 37 columns (attributes), we also noticed the original dataset is not ready for data analysis, first we will check data type of every column, then we will drop columns which is not required, in my case I will choose four attributes to solve the problem which is (SEVERITYCODE,WEATHER, ROADCOND,LIGHTCOND), and also we have categorical data type we have to convert it to numerical data type and numerical type.\\\nAlso we noticed that data imbalanced so we will use some statistical method to balance it.\n"
        },
        {
            "cell_type": "markdown",
            "metadata": {},
            "source": "## C.Methodology \n"
        },
        {
            "cell_type": "markdown",
            "metadata": {},
            "source": "In this project our direct our effort to find proper way to provide advices for target audience and help them to make insightful decision that could help them to reducing accident severity.  \n\nSo first I chose my target variables is severity code which describes the fatality of an accident. \nThen I choose three main conditions that could causes accident to train our model and then we will find out the relation between these conditions and severity code.  \n\nAs we noticed before that we have categorical data that we have to transform it to numeric data so I convert the columns to a category, then I used those category values for my label encoding.\n\nAlso we have unbalanced data so we should balance it to improve the predictability of your model so i applied Random Over sampling  by adding more copies to the minority class.\n"
        },
        {
            "cell_type": "markdown",
            "metadata": {},
            "source": "## C.Analysis <a name=\"analysis\"></a>"
        },
        {
            "cell_type": "code",
            "execution_count": 75,
            "metadata": {},
            "outputs": [],
            "source": "import pandas as pd"
        },
        {
            "cell_type": "code",
            "execution_count": 77,
            "metadata": {},
            "outputs": [
                {
                    "name": "stderr",
                    "output_type": "stream",
                    "text": "/opt/conda/envs/Python36/lib/python3.6/site-packages/IPython/core/interactiveshell.py:3020: DtypeWarning: Columns (33) have mixed types. Specify dtype option on import or set low_memory=False.\n  interactivity=interactivity, compiler=compiler, result=result)\n"
                }
            ],
            "source": "df_collision=pd.read_csv('https://s3.us.cloud-object-storage.appdomain.cloud/cf-courses-data/CognitiveClass/DP0701EN/version-2/Data-Collisions.csv')"
        },
        {
            "cell_type": "code",
            "execution_count": 6,
            "metadata": {},
            "outputs": [
                {
                    "data": {
                        "text/html": "<div>\n<style scoped>\n    .dataframe tbody tr th:only-of-type {\n        vertical-align: middle;\n    }\n\n    .dataframe tbody tr th {\n        vertical-align: top;\n    }\n\n    .dataframe thead th {\n        text-align: right;\n    }\n</style>\n<table border=\"1\" class=\"dataframe\">\n  <thead>\n    <tr style=\"text-align: right;\">\n      <th></th>\n      <th>SEVERITYCODE</th>\n      <th>X</th>\n      <th>Y</th>\n      <th>OBJECTID</th>\n      <th>INCKEY</th>\n      <th>COLDETKEY</th>\n      <th>REPORTNO</th>\n      <th>STATUS</th>\n      <th>ADDRTYPE</th>\n      <th>INTKEY</th>\n      <th>...</th>\n      <th>ROADCOND</th>\n      <th>LIGHTCOND</th>\n      <th>PEDROWNOTGRNT</th>\n      <th>SDOTCOLNUM</th>\n      <th>SPEEDING</th>\n      <th>ST_COLCODE</th>\n      <th>ST_COLDESC</th>\n      <th>SEGLANEKEY</th>\n      <th>CROSSWALKKEY</th>\n      <th>HITPARKEDCAR</th>\n    </tr>\n  </thead>\n  <tbody>\n    <tr>\n      <th>0</th>\n      <td>2</td>\n      <td>-122.323148</td>\n      <td>47.703140</td>\n      <td>1</td>\n      <td>1307</td>\n      <td>1307</td>\n      <td>3502005</td>\n      <td>Matched</td>\n      <td>Intersection</td>\n      <td>37475.0</td>\n      <td>...</td>\n      <td>Wet</td>\n      <td>Daylight</td>\n      <td>NaN</td>\n      <td>NaN</td>\n      <td>NaN</td>\n      <td>10</td>\n      <td>Entering at angle</td>\n      <td>0</td>\n      <td>0</td>\n      <td>N</td>\n    </tr>\n    <tr>\n      <th>1</th>\n      <td>1</td>\n      <td>-122.347294</td>\n      <td>47.647172</td>\n      <td>2</td>\n      <td>52200</td>\n      <td>52200</td>\n      <td>2607959</td>\n      <td>Matched</td>\n      <td>Block</td>\n      <td>NaN</td>\n      <td>...</td>\n      <td>Wet</td>\n      <td>Dark - Street Lights On</td>\n      <td>NaN</td>\n      <td>6354039.0</td>\n      <td>NaN</td>\n      <td>11</td>\n      <td>From same direction - both going straight - bo...</td>\n      <td>0</td>\n      <td>0</td>\n      <td>N</td>\n    </tr>\n    <tr>\n      <th>2</th>\n      <td>1</td>\n      <td>-122.334540</td>\n      <td>47.607871</td>\n      <td>3</td>\n      <td>26700</td>\n      <td>26700</td>\n      <td>1482393</td>\n      <td>Matched</td>\n      <td>Block</td>\n      <td>NaN</td>\n      <td>...</td>\n      <td>Dry</td>\n      <td>Daylight</td>\n      <td>NaN</td>\n      <td>4323031.0</td>\n      <td>NaN</td>\n      <td>32</td>\n      <td>One parked--one moving</td>\n      <td>0</td>\n      <td>0</td>\n      <td>N</td>\n    </tr>\n    <tr>\n      <th>3</th>\n      <td>1</td>\n      <td>-122.334803</td>\n      <td>47.604803</td>\n      <td>4</td>\n      <td>1144</td>\n      <td>1144</td>\n      <td>3503937</td>\n      <td>Matched</td>\n      <td>Block</td>\n      <td>NaN</td>\n      <td>...</td>\n      <td>Dry</td>\n      <td>Daylight</td>\n      <td>NaN</td>\n      <td>NaN</td>\n      <td>NaN</td>\n      <td>23</td>\n      <td>From same direction - all others</td>\n      <td>0</td>\n      <td>0</td>\n      <td>N</td>\n    </tr>\n    <tr>\n      <th>4</th>\n      <td>2</td>\n      <td>-122.306426</td>\n      <td>47.545739</td>\n      <td>5</td>\n      <td>17700</td>\n      <td>17700</td>\n      <td>1807429</td>\n      <td>Matched</td>\n      <td>Intersection</td>\n      <td>34387.0</td>\n      <td>...</td>\n      <td>Wet</td>\n      <td>Daylight</td>\n      <td>NaN</td>\n      <td>4028032.0</td>\n      <td>NaN</td>\n      <td>10</td>\n      <td>Entering at angle</td>\n      <td>0</td>\n      <td>0</td>\n      <td>N</td>\n    </tr>\n  </tbody>\n</table>\n<p>5 rows \u00d7 38 columns</p>\n</div>",
                        "text/plain": "   SEVERITYCODE           X          Y  OBJECTID  INCKEY  COLDETKEY REPORTNO  \\\n0             2 -122.323148  47.703140         1    1307       1307  3502005   \n1             1 -122.347294  47.647172         2   52200      52200  2607959   \n2             1 -122.334540  47.607871         3   26700      26700  1482393   \n3             1 -122.334803  47.604803         4    1144       1144  3503937   \n4             2 -122.306426  47.545739         5   17700      17700  1807429   \n\n    STATUS      ADDRTYPE   INTKEY  ... ROADCOND                LIGHTCOND  \\\n0  Matched  Intersection  37475.0  ...      Wet                 Daylight   \n1  Matched         Block      NaN  ...      Wet  Dark - Street Lights On   \n2  Matched         Block      NaN  ...      Dry                 Daylight   \n3  Matched         Block      NaN  ...      Dry                 Daylight   \n4  Matched  Intersection  34387.0  ...      Wet                 Daylight   \n\n  PEDROWNOTGRNT  SDOTCOLNUM SPEEDING ST_COLCODE  \\\n0           NaN         NaN      NaN         10   \n1           NaN   6354039.0      NaN         11   \n2           NaN   4323031.0      NaN         32   \n3           NaN         NaN      NaN         23   \n4           NaN   4028032.0      NaN         10   \n\n                                          ST_COLDESC  SEGLANEKEY  \\\n0                                  Entering at angle           0   \n1  From same direction - both going straight - bo...           0   \n2                             One parked--one moving           0   \n3                   From same direction - all others           0   \n4                                  Entering at angle           0   \n\n   CROSSWALKKEY  HITPARKEDCAR  \n0             0             N  \n1             0             N  \n2             0             N  \n3             0             N  \n4             0             N  \n\n[5 rows x 38 columns]"
                    },
                    "execution_count": 6,
                    "metadata": {},
                    "output_type": "execute_result"
                }
            ],
            "source": "df_collision.head()"
        },
        {
            "cell_type": "code",
            "execution_count": 7,
            "metadata": {},
            "outputs": [],
            "source": "df=df_collision[['SEVERITYCODE','ROADCOND','LIGHTCOND','WEATHER']]"
        },
        {
            "cell_type": "code",
            "execution_count": 8,
            "metadata": {},
            "outputs": [
                {
                    "data": {
                        "text/html": "<div>\n<style scoped>\n    .dataframe tbody tr th:only-of-type {\n        vertical-align: middle;\n    }\n\n    .dataframe tbody tr th {\n        vertical-align: top;\n    }\n\n    .dataframe thead th {\n        text-align: right;\n    }\n</style>\n<table border=\"1\" class=\"dataframe\">\n  <thead>\n    <tr style=\"text-align: right;\">\n      <th></th>\n      <th>SEVERITYCODE</th>\n      <th>ROADCOND</th>\n      <th>LIGHTCOND</th>\n      <th>WEATHER</th>\n    </tr>\n  </thead>\n  <tbody>\n    <tr>\n      <th>0</th>\n      <td>2</td>\n      <td>Wet</td>\n      <td>Daylight</td>\n      <td>Overcast</td>\n    </tr>\n    <tr>\n      <th>1</th>\n      <td>1</td>\n      <td>Wet</td>\n      <td>Dark - Street Lights On</td>\n      <td>Raining</td>\n    </tr>\n    <tr>\n      <th>2</th>\n      <td>1</td>\n      <td>Dry</td>\n      <td>Daylight</td>\n      <td>Overcast</td>\n    </tr>\n    <tr>\n      <th>3</th>\n      <td>1</td>\n      <td>Dry</td>\n      <td>Daylight</td>\n      <td>Clear</td>\n    </tr>\n    <tr>\n      <th>4</th>\n      <td>2</td>\n      <td>Wet</td>\n      <td>Daylight</td>\n      <td>Raining</td>\n    </tr>\n  </tbody>\n</table>\n</div>",
                        "text/plain": "   SEVERITYCODE ROADCOND                LIGHTCOND   WEATHER\n0             2      Wet                 Daylight  Overcast\n1             1      Wet  Dark - Street Lights On   Raining\n2             1      Dry                 Daylight  Overcast\n3             1      Dry                 Daylight     Clear\n4             2      Wet                 Daylight   Raining"
                    },
                    "execution_count": 8,
                    "metadata": {},
                    "output_type": "execute_result"
                }
            ],
            "source": "df.head()"
        },
        {
            "cell_type": "code",
            "execution_count": 9,
            "metadata": {},
            "outputs": [
                {
                    "data": {
                        "text/plain": "1    136485\n2     58188\nName: SEVERITYCODE, dtype: int64"
                    },
                    "execution_count": 9,
                    "metadata": {},
                    "output_type": "execute_result"
                }
            ],
            "source": "df['SEVERITYCODE'].value_counts()"
        },
        {
            "cell_type": "code",
            "execution_count": 10,
            "metadata": {},
            "outputs": [
                {
                    "data": {
                        "text/plain": "<Figure size 640x480 with 1 Axes>"
                    },
                    "metadata": {},
                    "output_type": "display_data"
                }
            ],
            "source": "import matplotlib.pyplot as plt\nimport seaborn as sns\ng = sns.countplot(df['SEVERITYCODE'])\ng.set_xticklabels(['very low probability',' low probability'])\nplt.show()"
        },
        {
            "cell_type": "code",
            "execution_count": 11,
            "metadata": {},
            "outputs": [
                {
                    "name": "stdout",
                    "output_type": "stream",
                    "text": "class 1: (136485, 4)\nclass 2: (58188, 4)\n"
                }
            ],
            "source": "class_count_1, class_count_2 = df['SEVERITYCODE'].value_counts()\nclass_1 = df[df['SEVERITYCODE'] == 1]\nclass_2 = df[df['SEVERITYCODE'] == 2]# print the shape of the class\nprint('class 1:', class_1.shape)\nprint('class 2:', class_2.shape)"
        },
        {
            "cell_type": "code",
            "execution_count": 12,
            "metadata": {},
            "outputs": [
                {
                    "name": "stdout",
                    "output_type": "stream",
                    "text": "total class of 1 and 0: 2    136485\n1    136485\nName: SEVERITYCODE, dtype: int64\n"
                },
                {
                    "data": {
                        "text/plain": "<matplotlib.axes._subplots.AxesSubplot at 0x7fba4d333b38>"
                    },
                    "execution_count": 12,
                    "metadata": {},
                    "output_type": "execute_result"
                },
                {
                    "data": {
                        "image/png": "[encoded data removed]",
                        "text/plain": "<Figure size 432x288 with 1 Axes>"
                    },
                    "metadata": {
                        "needs_background": "light"
                    },
                    "output_type": "display_data"
                }
            ],
            "source": "class_2_over = class_2.sample(class_count_1, replace=True)\n\ndf_over = pd.concat([class_2_over, class_1], axis=0)\n\nprint(\"total class of 1 and 0:\",df_over['SEVERITYCODE'].value_counts())# plot the count after under-sampeling\ndf_over['SEVERITYCODE'].value_counts().plot(kind='bar', title='count (target)')"
        },
        {
            "cell_type": "code",
            "execution_count": 13,
            "metadata": {},
            "outputs": [
                {
                    "data": {
                        "text/plain": "2    136485\n1    136485\nName: SEVERITYCODE, dtype: int64"
                    },
                    "execution_count": 13,
                    "metadata": {},
                    "output_type": "execute_result"
                }
            ],
            "source": "df_over['SEVERITYCODE'].value_counts()"
        },
        {
            "cell_type": "code",
            "execution_count": 14,
            "metadata": {},
            "outputs": [
                {
                    "data": {
                        "text/plain": "SEVERITYCODE     int64\nROADCOND        object\nLIGHTCOND       object\nWEATHER         object\ndtype: object"
                    },
                    "execution_count": 14,
                    "metadata": {},
                    "output_type": "execute_result"
                }
            ],
            "source": "df_over.dtypes"
        },
        {
            "cell_type": "code",
            "execution_count": 15,
            "metadata": {},
            "outputs": [
                {
                    "data": {
                        "text/plain": "Dry               False\nWet               False\nUnknown           False\nIce               False\nSnow/Slush        False\nOther             False\nStanding Water    False\nSand/Mud/Dirt     False\nOil               False\nName: ROADCOND, dtype: bool"
                    },
                    "execution_count": 15,
                    "metadata": {},
                    "output_type": "execute_result"
                }
            ],
            "source": "df_over['ROADCOND'].value_counts().isnull()"
        },
        {
            "cell_type": "code",
            "execution_count": 16,
            "metadata": {},
            "outputs": [
                {
                    "data": {
                        "text/plain": "Daylight                    False\nDark - Street Lights On     False\nUnknown                     False\nDusk                        False\nDawn                        False\nDark - No Street Lights     False\nDark - Street Lights Off    False\nOther                       False\nDark - Unknown Lighting     False\nName: LIGHTCOND, dtype: bool"
                    },
                    "execution_count": 16,
                    "metadata": {},
                    "output_type": "execute_result"
                }
            ],
            "source": "df_over['LIGHTCOND'].value_counts().isnull()"
        },
        {
            "cell_type": "code",
            "execution_count": 17,
            "metadata": {},
            "outputs": [
                {
                    "data": {
                        "text/plain": "Clear                       False\nRaining                     False\nOvercast                    False\nUnknown                     False\nSnowing                     False\nOther                       False\nFog/Smog/Smoke              False\nSleet/Hail/Freezing Rain    False\nBlowing Sand/Dirt           False\nSevere Crosswind            False\nPartly Cloudy               False\nName: WEATHER, dtype: bool"
                    },
                    "execution_count": 17,
                    "metadata": {},
                    "output_type": "execute_result"
                }
            ],
            "source": "df_over['WEATHER'].value_counts().isnull()"
        },
        {
            "cell_type": "code",
            "execution_count": 18,
            "metadata": {},
            "outputs": [
                {
                    "data": {
                        "text/plain": "SEVERITYCODE       int64\nROADCOND        category\nLIGHTCOND         object\nWEATHER           object\ndtype: object"
                    },
                    "execution_count": 18,
                    "metadata": {},
                    "output_type": "execute_result"
                }
            ],
            "source": "df_over[\"ROADCOND\"] = df_over[\"ROADCOND\"].astype('category')\ndf_over.dtypes"
        },
        {
            "cell_type": "code",
            "execution_count": 19,
            "metadata": {},
            "outputs": [
                {
                    "data": {
                        "text/html": "<div>\n<style scoped>\n    .dataframe tbody tr th:only-of-type {\n        vertical-align: middle;\n    }\n\n    .dataframe tbody tr th {\n        vertical-align: top;\n    }\n\n    .dataframe thead th {\n        text-align: right;\n    }\n</style>\n<table border=\"1\" class=\"dataframe\">\n  <thead>\n    <tr style=\"text-align: right;\">\n      <th></th>\n      <th>SEVERITYCODE</th>\n      <th>ROADCOND</th>\n      <th>LIGHTCOND</th>\n      <th>WEATHER</th>\n      <th>ROADCOND_cat</th>\n    </tr>\n  </thead>\n  <tbody>\n    <tr>\n      <th>56683</th>\n      <td>2</td>\n      <td>Dry</td>\n      <td>Daylight</td>\n      <td>Clear</td>\n      <td>0</td>\n    </tr>\n    <tr>\n      <th>130515</th>\n      <td>2</td>\n      <td>Dry</td>\n      <td>Dark - Street Lights On</td>\n      <td>Clear</td>\n      <td>0</td>\n    </tr>\n    <tr>\n      <th>41583</th>\n      <td>2</td>\n      <td>Dry</td>\n      <td>Daylight</td>\n      <td>Clear</td>\n      <td>0</td>\n    </tr>\n    <tr>\n      <th>106219</th>\n      <td>2</td>\n      <td>Wet</td>\n      <td>Daylight</td>\n      <td>Raining</td>\n      <td>8</td>\n    </tr>\n    <tr>\n      <th>137952</th>\n      <td>2</td>\n      <td>Dry</td>\n      <td>Daylight</td>\n      <td>Clear</td>\n      <td>0</td>\n    </tr>\n  </tbody>\n</table>\n</div>",
                        "text/plain": "        SEVERITYCODE ROADCOND                LIGHTCOND  WEATHER  ROADCOND_cat\n56683              2      Dry                 Daylight    Clear             0\n130515             2      Dry  Dark - Street Lights On    Clear             0\n41583              2      Dry                 Daylight    Clear             0\n106219             2      Wet                 Daylight  Raining             8\n137952             2      Dry                 Daylight    Clear             0"
                    },
                    "execution_count": 19,
                    "metadata": {},
                    "output_type": "execute_result"
                }
            ],
            "source": "df_over[\"ROADCOND_cat\"] = df_over[\"ROADCOND\"].cat.codes\ndf_over.head()"
        },
        {
            "cell_type": "code",
            "execution_count": 20,
            "metadata": {},
            "outputs": [
                {
                    "data": {
                        "text/plain": "SEVERITYCODE       int64\nROADCOND        category\nLIGHTCOND       category\nWEATHER           object\nROADCOND_cat        int8\ndtype: object"
                    },
                    "execution_count": 20,
                    "metadata": {},
                    "output_type": "execute_result"
                }
            ],
            "source": "df_over[\"LIGHTCOND\"] = df_over[\"LIGHTCOND\"].astype('category')\ndf_over.dtypes"
        },
        {
            "cell_type": "code",
            "execution_count": 21,
            "metadata": {},
            "outputs": [
                {
                    "data": {
                        "text/html": "<div>\n<style scoped>\n    .dataframe tbody tr th:only-of-type {\n        vertical-align: middle;\n    }\n\n    .dataframe tbody tr th {\n        vertical-align: top;\n    }\n\n    .dataframe thead th {\n        text-align: right;\n    }\n</style>\n<table border=\"1\" class=\"dataframe\">\n  <thead>\n    <tr style=\"text-align: right;\">\n      <th></th>\n      <th>SEVERITYCODE</th>\n      <th>ROADCOND</th>\n      <th>LIGHTCOND</th>\n      <th>WEATHER</th>\n      <th>ROADCOND_cat</th>\n      <th>LIGHCOND_cat</th>\n    </tr>\n  </thead>\n  <tbody>\n    <tr>\n      <th>56683</th>\n      <td>2</td>\n      <td>Dry</td>\n      <td>Daylight</td>\n      <td>Clear</td>\n      <td>0</td>\n      <td>5</td>\n    </tr>\n    <tr>\n      <th>130515</th>\n      <td>2</td>\n      <td>Dry</td>\n      <td>Dark - Street Lights On</td>\n      <td>Clear</td>\n      <td>0</td>\n      <td>2</td>\n    </tr>\n    <tr>\n      <th>41583</th>\n      <td>2</td>\n      <td>Dry</td>\n      <td>Daylight</td>\n      <td>Clear</td>\n      <td>0</td>\n      <td>5</td>\n    </tr>\n    <tr>\n      <th>106219</th>\n      <td>2</td>\n      <td>Wet</td>\n      <td>Daylight</td>\n      <td>Raining</td>\n      <td>8</td>\n      <td>5</td>\n    </tr>\n    <tr>\n      <th>137952</th>\n      <td>2</td>\n      <td>Dry</td>\n      <td>Daylight</td>\n      <td>Clear</td>\n      <td>0</td>\n      <td>5</td>\n    </tr>\n  </tbody>\n</table>\n</div>",
                        "text/plain": "        SEVERITYCODE ROADCOND                LIGHTCOND  WEATHER  ROADCOND_cat  \\\n56683              2      Dry                 Daylight    Clear             0   \n130515             2      Dry  Dark - Street Lights On    Clear             0   \n41583              2      Dry                 Daylight    Clear             0   \n106219             2      Wet                 Daylight  Raining             8   \n137952             2      Dry                 Daylight    Clear             0   \n\n        LIGHCOND_cat  \n56683              5  \n130515             2  \n41583              5  \n106219             5  \n137952             5  "
                    },
                    "execution_count": 21,
                    "metadata": {},
                    "output_type": "execute_result"
                }
            ],
            "source": "df_over[\"LIGHCOND_cat\"] = df_over[\"LIGHTCOND\"].cat.codes\ndf_over.head()"
        },
        {
            "cell_type": "code",
            "execution_count": 22,
            "metadata": {},
            "outputs": [
                {
                    "data": {
                        "text/plain": "SEVERITYCODE       int64\nROADCOND        category\nLIGHTCOND       category\nWEATHER         category\nROADCOND_cat        int8\nLIGHCOND_cat        int8\ndtype: object"
                    },
                    "execution_count": 22,
                    "metadata": {},
                    "output_type": "execute_result"
                }
            ],
            "source": "df_over[\"WEATHER\"] = df_over[\"WEATHER\"].astype('category')\ndf_over.dtypes"
        },
        {
            "cell_type": "code",
            "execution_count": 23,
            "metadata": {},
            "outputs": [
                {
                    "data": {
                        "text/html": "<div>\n<style scoped>\n    .dataframe tbody tr th:only-of-type {\n        vertical-align: middle;\n    }\n\n    .dataframe tbody tr th {\n        vertical-align: top;\n    }\n\n    .dataframe thead th {\n        text-align: right;\n    }\n</style>\n<table border=\"1\" class=\"dataframe\">\n  <thead>\n    <tr style=\"text-align: right;\">\n      <th></th>\n      <th>SEVERITYCODE</th>\n      <th>ROADCOND</th>\n      <th>LIGHTCOND</th>\n      <th>WEATHER</th>\n      <th>ROADCOND_cat</th>\n      <th>LIGHCOND_cat</th>\n      <th>WEATHER_cat</th>\n    </tr>\n  </thead>\n  <tbody>\n    <tr>\n      <th>56683</th>\n      <td>2</td>\n      <td>Dry</td>\n      <td>Daylight</td>\n      <td>Clear</td>\n      <td>0</td>\n      <td>5</td>\n      <td>1</td>\n    </tr>\n    <tr>\n      <th>130515</th>\n      <td>2</td>\n      <td>Dry</td>\n      <td>Dark - Street Lights On</td>\n      <td>Clear</td>\n      <td>0</td>\n      <td>2</td>\n      <td>1</td>\n    </tr>\n    <tr>\n      <th>41583</th>\n      <td>2</td>\n      <td>Dry</td>\n      <td>Daylight</td>\n      <td>Clear</td>\n      <td>0</td>\n      <td>5</td>\n      <td>1</td>\n    </tr>\n    <tr>\n      <th>106219</th>\n      <td>2</td>\n      <td>Wet</td>\n      <td>Daylight</td>\n      <td>Raining</td>\n      <td>8</td>\n      <td>5</td>\n      <td>6</td>\n    </tr>\n    <tr>\n      <th>137952</th>\n      <td>2</td>\n      <td>Dry</td>\n      <td>Daylight</td>\n      <td>Clear</td>\n      <td>0</td>\n      <td>5</td>\n      <td>1</td>\n    </tr>\n  </tbody>\n</table>\n</div>",
                        "text/plain": "        SEVERITYCODE ROADCOND                LIGHTCOND  WEATHER  ROADCOND_cat  \\\n56683              2      Dry                 Daylight    Clear             0   \n130515             2      Dry  Dark - Street Lights On    Clear             0   \n41583              2      Dry                 Daylight    Clear             0   \n106219             2      Wet                 Daylight  Raining             8   \n137952             2      Dry                 Daylight    Clear             0   \n\n        LIGHCOND_cat  WEATHER_cat  \n56683              5            1  \n130515             2            1  \n41583              5            1  \n106219             5            6  \n137952             5            1  "
                    },
                    "execution_count": 23,
                    "metadata": {},
                    "output_type": "execute_result"
                }
            ],
            "source": "df_over[\"WEATHER_cat\"] = df_over[\"WEATHER\"].cat.codes\ndf_over.head()"
        },
        {
            "cell_type": "markdown",
            "metadata": {},
            "source": "## C.1.Realtion between weather and accident severity"
        },
        {
            "cell_type": "code",
            "execution_count": 24,
            "metadata": {},
            "outputs": [
                {
                    "data": {
                        "text/html": "<div>\n<style scoped>\n    .dataframe tbody tr th:only-of-type {\n        vertical-align: middle;\n    }\n\n    .dataframe tbody tr th {\n        vertical-align: top;\n    }\n\n    .dataframe thead th {\n        text-align: right;\n    }\n</style>\n<table border=\"1\" class=\"dataframe\">\n  <thead>\n    <tr style=\"text-align: right;\">\n      <th></th>\n      <th>SEVERITYCODE</th>\n      <th>WEATHER</th>\n    </tr>\n  </thead>\n  <tbody>\n    <tr>\n      <th>56683</th>\n      <td>2</td>\n      <td>Clear</td>\n    </tr>\n    <tr>\n      <th>130515</th>\n      <td>2</td>\n      <td>Clear</td>\n    </tr>\n    <tr>\n      <th>41583</th>\n      <td>2</td>\n      <td>Clear</td>\n    </tr>\n    <tr>\n      <th>106219</th>\n      <td>2</td>\n      <td>Raining</td>\n    </tr>\n    <tr>\n      <th>137952</th>\n      <td>2</td>\n      <td>Clear</td>\n    </tr>\n  </tbody>\n</table>\n</div>",
                        "text/plain": "        SEVERITYCODE  WEATHER\n56683              2    Clear\n130515             2    Clear\n41583              2    Clear\n106219             2  Raining\n137952             2    Clear"
                    },
                    "execution_count": 24,
                    "metadata": {},
                    "output_type": "execute_result"
                }
            ],
            "source": "df_weather = df_over[['SEVERITYCODE','WEATHER',]]\ndf_weather.head()"
        },
        {
            "cell_type": "code",
            "execution_count": 25,
            "metadata": {},
            "outputs": [
                {
                    "data": {
                        "text/plain": "<matplotlib.axes._subplots.AxesSubplot at 0x7fba4cc9e5f8>"
                    },
                    "execution_count": 25,
                    "metadata": {},
                    "output_type": "execute_result"
                },
                {
                    "data": {
                        "image/png": "[encoded data removed]",
                        "text/plain": "<Figure size 1440x360 with 1 Axes>"
                    },
                    "metadata": {
                        "needs_background": "light"
                    },
                    "output_type": "display_data"
                }
            ],
            "source": "\nplt.figure(figsize=(20,5))\nsns.barplot(\n    data=df_weather,\n    x='WEATHER',\n    y='SEVERITYCODE')"
        },
        {
            "cell_type": "markdown",
            "metadata": {},
            "source": "## C.2.Relation between ROADCOND and accident severity"
        },
        {
            "cell_type": "code",
            "execution_count": 26,
            "metadata": {},
            "outputs": [],
            "source": "df_road=df_over[['ROADCOND','SEVERITYCODE']]"
        },
        {
            "cell_type": "code",
            "execution_count": 27,
            "metadata": {},
            "outputs": [
                {
                    "data": {
                        "text/html": "<div>\n<style scoped>\n    .dataframe tbody tr th:only-of-type {\n        vertical-align: middle;\n    }\n\n    .dataframe tbody tr th {\n        vertical-align: top;\n    }\n\n    .dataframe thead th {\n        text-align: right;\n    }\n</style>\n<table border=\"1\" class=\"dataframe\">\n  <thead>\n    <tr style=\"text-align: right;\">\n      <th></th>\n      <th>ROADCOND</th>\n      <th>SEVERITYCODE</th>\n    </tr>\n  </thead>\n  <tbody>\n    <tr>\n      <th>56683</th>\n      <td>Dry</td>\n      <td>2</td>\n    </tr>\n    <tr>\n      <th>130515</th>\n      <td>Dry</td>\n      <td>2</td>\n    </tr>\n    <tr>\n      <th>41583</th>\n      <td>Dry</td>\n      <td>2</td>\n    </tr>\n    <tr>\n      <th>106219</th>\n      <td>Wet</td>\n      <td>2</td>\n    </tr>\n    <tr>\n      <th>137952</th>\n      <td>Dry</td>\n      <td>2</td>\n    </tr>\n  </tbody>\n</table>\n</div>",
                        "text/plain": "       ROADCOND  SEVERITYCODE\n56683       Dry             2\n130515      Dry             2\n41583       Dry             2\n106219      Wet             2\n137952      Dry             2"
                    },
                    "execution_count": 27,
                    "metadata": {},
                    "output_type": "execute_result"
                }
            ],
            "source": "df_road.head()"
        },
        {
            "cell_type": "code",
            "execution_count": 28,
            "metadata": {},
            "outputs": [
                {
                    "data": {
                        "text/plain": "<seaborn.axisgrid.FacetGrid at 0x7fba4cc20b70>"
                    },
                    "execution_count": 28,
                    "metadata": {},
                    "output_type": "execute_result"
                },
                {
                    "data": {
                        "image/png": "[encoded data removed]",
                        "text/plain": "<Figure size 648x216 with 1 Axes>"
                    },
                    "metadata": {
                        "needs_background": "light"
                    },
                    "output_type": "display_data"
                }
            ],
            "source": "\nsns.catplot(x=\"ROADCOND\", y=\"SEVERITYCODE\", kind=\"point\", data=df_road,height=3, \n    aspect=3,)\n\n"
        },
        {
            "cell_type": "markdown",
            "metadata": {},
            "source": "## C.2.Relation between Lightcond and accident severity"
        },
        {
            "cell_type": "code",
            "execution_count": 29,
            "metadata": {},
            "outputs": [
                {
                    "data": {
                        "text/html": "<div>\n<style scoped>\n    .dataframe tbody tr th:only-of-type {\n        vertical-align: middle;\n    }\n\n    .dataframe tbody tr th {\n        vertical-align: top;\n    }\n\n    .dataframe thead th {\n        text-align: right;\n    }\n</style>\n<table border=\"1\" class=\"dataframe\">\n  <thead>\n    <tr style=\"text-align: right;\">\n      <th></th>\n      <th>LIGHTCOND</th>\n      <th>SEVERITYCODE</th>\n    </tr>\n  </thead>\n  <tbody>\n    <tr>\n      <th>56683</th>\n      <td>Daylight</td>\n      <td>2</td>\n    </tr>\n    <tr>\n      <th>130515</th>\n      <td>Dark - Street Lights On</td>\n      <td>2</td>\n    </tr>\n    <tr>\n      <th>41583</th>\n      <td>Daylight</td>\n      <td>2</td>\n    </tr>\n    <tr>\n      <th>106219</th>\n      <td>Daylight</td>\n      <td>2</td>\n    </tr>\n    <tr>\n      <th>137952</th>\n      <td>Daylight</td>\n      <td>2</td>\n    </tr>\n  </tbody>\n</table>\n</div>",
                        "text/plain": "                      LIGHTCOND  SEVERITYCODE\n56683                  Daylight             2\n130515  Dark - Street Lights On             2\n41583                  Daylight             2\n106219                 Daylight             2\n137952                 Daylight             2"
                    },
                    "execution_count": 29,
                    "metadata": {},
                    "output_type": "execute_result"
                }
            ],
            "source": "df_light=df_over[['LIGHTCOND','SEVERITYCODE']]\ndf_light.head()"
        },
        {
            "cell_type": "code",
            "execution_count": 30,
            "metadata": {},
            "outputs": [
                {
                    "data": {
                        "text/plain": "<seaborn.axisgrid.FacetGrid at 0x7fba4cb83fd0>"
                    },
                    "execution_count": 30,
                    "metadata": {},
                    "output_type": "execute_result"
                },
                {
                    "data": {
                        "image/png": "[encoded data removed]",
                        "text/plain": "<Figure size 1296x216 with 1 Axes>"
                    },
                    "metadata": {
                        "needs_background": "light"
                    },
                    "output_type": "display_data"
                }
            ],
            "source": "sns.catplot(x=\"LIGHTCOND\", y=\"SEVERITYCODE\", kind=\"point\", data=df_light,height=3, \n    aspect=6)\n\n"
        },
        {
            "cell_type": "markdown",
            "metadata": {},
            "source": "## D. Predictive Modeling"
        },
        {
            "cell_type": "markdown",
            "metadata": {},
            "source": "## D.1.KNN"
        },
        {
            "cell_type": "code",
            "execution_count": 31,
            "metadata": {},
            "outputs": [
                {
                    "data": {
                        "text/html": "<div>\n<style scoped>\n    .dataframe tbody tr th:only-of-type {\n        vertical-align: middle;\n    }\n\n    .dataframe tbody tr th {\n        vertical-align: top;\n    }\n\n    .dataframe thead th {\n        text-align: right;\n    }\n</style>\n<table border=\"1\" class=\"dataframe\">\n  <thead>\n    <tr style=\"text-align: right;\">\n      <th></th>\n      <th>SEVERITYCODE</th>\n      <th>ROADCOND</th>\n      <th>LIGHTCOND</th>\n      <th>WEATHER</th>\n      <th>ROADCOND_cat</th>\n      <th>LIGHCOND_cat</th>\n      <th>WEATHER_cat</th>\n    </tr>\n  </thead>\n  <tbody>\n    <tr>\n      <th>56683</th>\n      <td>2</td>\n      <td>Dry</td>\n      <td>Daylight</td>\n      <td>Clear</td>\n      <td>0</td>\n      <td>5</td>\n      <td>1</td>\n    </tr>\n    <tr>\n      <th>130515</th>\n      <td>2</td>\n      <td>Dry</td>\n      <td>Dark - Street Lights On</td>\n      <td>Clear</td>\n      <td>0</td>\n      <td>2</td>\n      <td>1</td>\n    </tr>\n    <tr>\n      <th>41583</th>\n      <td>2</td>\n      <td>Dry</td>\n      <td>Daylight</td>\n      <td>Clear</td>\n      <td>0</td>\n      <td>5</td>\n      <td>1</td>\n    </tr>\n    <tr>\n      <th>106219</th>\n      <td>2</td>\n      <td>Wet</td>\n      <td>Daylight</td>\n      <td>Raining</td>\n      <td>8</td>\n      <td>5</td>\n      <td>6</td>\n    </tr>\n    <tr>\n      <th>137952</th>\n      <td>2</td>\n      <td>Dry</td>\n      <td>Daylight</td>\n      <td>Clear</td>\n      <td>0</td>\n      <td>5</td>\n      <td>1</td>\n    </tr>\n  </tbody>\n</table>\n</div>",
                        "text/plain": "        SEVERITYCODE ROADCOND                LIGHTCOND  WEATHER  ROADCOND_cat  \\\n56683              2      Dry                 Daylight    Clear             0   \n130515             2      Dry  Dark - Street Lights On    Clear             0   \n41583              2      Dry                 Daylight    Clear             0   \n106219             2      Wet                 Daylight  Raining             8   \n137952             2      Dry                 Daylight    Clear             0   \n\n        LIGHCOND_cat  WEATHER_cat  \n56683              5            1  \n130515             2            1  \n41583              5            1  \n106219             5            6  \n137952             5            1  "
                    },
                    "execution_count": 31,
                    "metadata": {},
                    "output_type": "execute_result"
                }
            ],
            "source": "df_over.head()"
        },
        {
            "cell_type": "code",
            "execution_count": 32,
            "metadata": {},
            "outputs": [
                {
                    "data": {
                        "text/plain": "array([[<matplotlib.axes._subplots.AxesSubplot object at 0x7fba4ccd8e80>]],\n      dtype=object)"
                    },
                    "execution_count": 32,
                    "metadata": {},
                    "output_type": "execute_result"
                },
                {
                    "data": {
                        "image/png": "[encoded data removed]",
                        "text/plain": "<Figure size 432x288 with 1 Axes>"
                    },
                    "metadata": {
                        "needs_background": "light"
                    },
                    "output_type": "display_data"
                }
            ],
            "source": "df_over.hist(column='SEVERITYCODE', bins=50)"
        },
        {
            "cell_type": "code",
            "execution_count": 33,
            "metadata": {},
            "outputs": [
                {
                    "data": {
                        "text/plain": "array([[0, 5, 1],\n       [0, 2, 1],\n       [0, 5, 1],\n       [8, 5, 6],\n       [0, 5, 1]], dtype=int8)"
                    },
                    "execution_count": 33,
                    "metadata": {},
                    "output_type": "execute_result"
                }
            ],
            "source": "X = df_over[['ROADCOND_cat', 'LIGHCOND_cat','WEATHER_cat']] .values\nX[0:5]"
        },
        {
            "cell_type": "code",
            "execution_count": 34,
            "metadata": {},
            "outputs": [
                {
                    "data": {
                        "text/plain": "array([2, 2, 2, 2, 2])"
                    },
                    "execution_count": 34,
                    "metadata": {},
                    "output_type": "execute_result"
                }
            ],
            "source": "y = df_over['SEVERITYCODE'].values\ny[0:5]"
        },
        {
            "cell_type": "code",
            "execution_count": 35,
            "metadata": {},
            "outputs": [
                {
                    "name": "stderr",
                    "output_type": "stream",
                    "text": "/opt/conda/envs/Python36/lib/python3.6/site-packages/sklearn/utils/validation.py:595: DataConversionWarning: Data with input dtype int8 was converted to float64 by StandardScaler.\n  warnings.warn(msg, DataConversionWarning)\n"
                },
                {
                    "data": {
                        "text/plain": "array([[-0.67038706,  0.42683382, -0.67468082],\n       [-0.67038706, -1.22072025, -0.67468082],\n       [-0.67038706,  0.42683382, -0.67468082],\n       [ 1.52915475,  0.42683382,  1.15021369],\n       [-0.67038706,  0.42683382, -0.67468082]])"
                    },
                    "execution_count": 35,
                    "metadata": {},
                    "output_type": "execute_result"
                }
            ],
            "source": "from sklearn import preprocessing\n\nX = preprocessing.StandardScaler().fit(X).transform(X.astype(float))\nX[0:5]"
        },
        {
            "cell_type": "code",
            "execution_count": 56,
            "metadata": {},
            "outputs": [
                {
                    "name": "stdout",
                    "output_type": "stream",
                    "text": "Train set: (218376, 3) (218376,)\nTest set: (54594, 3) (54594,)\n"
                }
            ],
            "source": "from sklearn.model_selection import train_test_split\nX_train, X_test, y_train, y_test = train_test_split( X, y, test_size=0.2, random_state=4)\nprint ('Train set:', X_train.shape,  y_train.shape)\nprint ('Test set:', X_test.shape,  y_test.shape)"
        },
        {
            "cell_type": "code",
            "execution_count": 80,
            "metadata": {},
            "outputs": [],
            "source": "from sklearn.neighbors import KNeighborsClassifier"
        },
        {
            "cell_type": "code",
            "execution_count": 82,
            "metadata": {},
            "outputs": [
                {
                    "data": {
                        "text/plain": "KNeighborsClassifier(algorithm='auto', leaf_size=30, metric='minkowski',\n           metric_params=None, n_jobs=None, n_neighbors=9, p=2,\n           weights='uniform')"
                    },
                    "execution_count": 82,
                    "metadata": {},
                    "output_type": "execute_result"
                }
            ],
            "source": "k = 9\nneigh = KNeighborsClassifier(n_neighbors = k).fit(X_train,y_train)\nneigh"
        },
        {
            "cell_type": "code",
            "execution_count": 83,
            "metadata": {},
            "outputs": [
                {
                    "data": {
                        "text/plain": "array([2, 2, 2, 1, 2])"
                    },
                    "execution_count": 83,
                    "metadata": {},
                    "output_type": "execute_result"
                }
            ],
            "source": "yhat = neigh.predict(X_test)\nyhat[0:5]"
        },
        {
            "cell_type": "code",
            "execution_count": 61,
            "metadata": {},
            "outputs": [
                {
                    "name": "stdout",
                    "output_type": "stream",
                    "text": "Train set Accuracy:  0.5598600578818185\nTest set Accuracy:  0.5607026413158955\n"
                }
            ],
            "source": "from sklearn import metrics\nprint(\"Train set Accuracy: \", metrics.accuracy_score(y_train, neigh.predict(X_train)))\nprint(\"Test set Accuracy: \", metrics.accuracy_score(y_test, yhat))"
        },
        {
            "cell_type": "code",
            "execution_count": 65,
            "metadata": {},
            "outputs": [
                {
                    "data": {
                        "text/plain": "array([0.54068213, 0.50137378, 0.542697  , 0.54267868, 0.54703814,\n       0.54722131, 0.55731399, 0.55696597, 0.56070264])"
                    },
                    "execution_count": 65,
                    "metadata": {},
                    "output_type": "execute_result"
                }
            ],
            "source": "import numpy as np\nKs = 10\nmean_acc = np.zeros((Ks-1))\nstd_acc = np.zeros((Ks-1))\nConfustionMx = [];\nfor n in range(1,Ks):\n    \n    #Train Model and Predict  \n    neigh = KNeighborsClassifier(n_neighbors = n).fit(X_train,y_train)\n    yhat=neigh.predict(X_test)\n    mean_acc[n-1] = metrics.accuracy_score(y_test, yhat)\n\n    \n    std_acc[n-1]=np.std(yhat==y_test)/np.sqrt(yhat.shape[0])\n\nmean_acc"
        },
        {
            "cell_type": "code",
            "execution_count": 86,
            "metadata": {},
            "outputs": [
                {
                    "data": {
                        "image/png": "[encoded data removed]",
                        "text/plain": "<Figure size 432x288 with 1 Axes>"
                    },
                    "metadata": {
                        "needs_background": "light"
                    },
                    "output_type": "display_data"
                }
            ],
            "source": "plt.plot(range(1,Ks),mean_acc,'g')\nplt.fill_between(range(1,Ks),mean_acc - 1 * std_acc,mean_acc + 1 * std_acc, alpha=0.10)\nplt.legend(('Accuracy ', '+/- 3xstd'))\nplt.ylabel('Accuracy ')\nplt.xlabel('Number of Nabors (K)')\nplt.tight_layout()\nplt.show()"
        },
        {
            "cell_type": "code",
            "execution_count": 88,
            "metadata": {},
            "outputs": [
                {
                    "name": "stdout",
                    "output_type": "stream",
                    "text": "The best accuracy was with 0.5607026413158955 with k= 9\n"
                }
            ],
            "source": "print( \"The best accuracy was with\", mean_acc.max(), \"with k=\", mean_acc.argmax()+1) "
        },
        {
            "cell_type": "markdown",
            "metadata": {},
            "source": "## D.2. SVM"
        },
        {
            "cell_type": "code",
            "execution_count": 48,
            "metadata": {},
            "outputs": [
                {
                    "data": {
                        "text/html": "<div>\n<style scoped>\n    .dataframe tbody tr th:only-of-type {\n        vertical-align: middle;\n    }\n\n    .dataframe tbody tr th {\n        vertical-align: top;\n    }\n\n    .dataframe thead th {\n        text-align: right;\n    }\n</style>\n<table border=\"1\" class=\"dataframe\">\n  <thead>\n    <tr style=\"text-align: right;\">\n      <th></th>\n      <th>SEVERITYCODE</th>\n      <th>ROADCOND</th>\n      <th>LIGHTCOND</th>\n      <th>WEATHER</th>\n      <th>ROADCOND_cat</th>\n      <th>LIGHCOND_cat</th>\n      <th>WEATHER_cat</th>\n    </tr>\n  </thead>\n  <tbody>\n    <tr>\n      <th>56683</th>\n      <td>2</td>\n      <td>Dry</td>\n      <td>Daylight</td>\n      <td>Clear</td>\n      <td>0</td>\n      <td>5</td>\n      <td>1</td>\n    </tr>\n    <tr>\n      <th>130515</th>\n      <td>2</td>\n      <td>Dry</td>\n      <td>Dark - Street Lights On</td>\n      <td>Clear</td>\n      <td>0</td>\n      <td>2</td>\n      <td>1</td>\n    </tr>\n    <tr>\n      <th>41583</th>\n      <td>2</td>\n      <td>Dry</td>\n      <td>Daylight</td>\n      <td>Clear</td>\n      <td>0</td>\n      <td>5</td>\n      <td>1</td>\n    </tr>\n    <tr>\n      <th>106219</th>\n      <td>2</td>\n      <td>Wet</td>\n      <td>Daylight</td>\n      <td>Raining</td>\n      <td>8</td>\n      <td>5</td>\n      <td>6</td>\n    </tr>\n    <tr>\n      <th>137952</th>\n      <td>2</td>\n      <td>Dry</td>\n      <td>Daylight</td>\n      <td>Clear</td>\n      <td>0</td>\n      <td>5</td>\n      <td>1</td>\n    </tr>\n  </tbody>\n</table>\n</div>",
                        "text/plain": "        SEVERITYCODE ROADCOND                LIGHTCOND  WEATHER  ROADCOND_cat  \\\n56683              2      Dry                 Daylight    Clear             0   \n130515             2      Dry  Dark - Street Lights On    Clear             0   \n41583              2      Dry                 Daylight    Clear             0   \n106219             2      Wet                 Daylight  Raining             8   \n137952             2      Dry                 Daylight    Clear             0   \n\n        LIGHCOND_cat  WEATHER_cat  \n56683              5            1  \n130515             2            1  \n41583              5            1  \n106219             5            6  \n137952             5            1  "
                    },
                    "execution_count": 48,
                    "metadata": {},
                    "output_type": "execute_result"
                }
            ],
            "source": "df_over.head()"
        },
        {
            "cell_type": "code",
            "execution_count": 70,
            "metadata": {},
            "outputs": [
                {
                    "data": {
                        "text/plain": "array([[-0.67038706,  0.42683382, -0.67468082],\n       [-0.67038706, -1.22072025, -0.67468082],\n       [-0.67038706,  0.42683382, -0.67468082],\n       [ 1.52915475,  0.42683382,  1.15021369],\n       [-0.67038706,  0.42683382, -0.67468082]])"
                    },
                    "execution_count": 70,
                    "metadata": {},
                    "output_type": "execute_result"
                }
            ],
            "source": "feature_df = df_over[['ROADCOND_cat','LIGHCOND_cat','WEATHER_cat']].astype('int')\nX1 = np.asarray(feature_df)\nX[0:5]"
        },
        {
            "cell_type": "code",
            "execution_count": 69,
            "metadata": {},
            "outputs": [
                {
                    "data": {
                        "text/plain": "array([2, 2, 2, 2, 2])"
                    },
                    "execution_count": 69,
                    "metadata": {},
                    "output_type": "execute_result"
                }
            ],
            "source": "df_over['SEVERITYCODE'] = df_over['SEVERITYCODE'].astype('int')\ny1 = np.asarray(df_over['SEVERITYCODE'])\ny [0:5]"
        },
        {
            "cell_type": "code",
            "execution_count": 71,
            "metadata": {},
            "outputs": [
                {
                    "name": "stdout",
                    "output_type": "stream",
                    "text": "Train set: (218376, 3) (218376,)\nTest set: (54594, 3) (54594,)\n"
                }
            ],
            "source": "X_train, X_test, y_train, y_test = train_test_split( X1, y1, test_size=0.2, random_state=4)\nprint ('Train set:', X_train.shape,  y_train.shape)\nprint ('Test set:', X_test.shape,  y_test.shape)"
        },
        {
            "cell_type": "code",
            "execution_count": null,
            "metadata": {},
            "outputs": [
                {
                    "name": "stderr",
                    "output_type": "stream",
                    "text": "/opt/conda/envs/Python36/lib/python3.6/site-packages/sklearn/svm/base.py:196: FutureWarning: The default value of gamma will change from 'auto' to 'scale' in version 0.22 to account better for unscaled features. Set gamma explicitly to 'auto' or 'scale' to avoid this warning.\n  \"avoid this warning.\", FutureWarning)\n"
                }
            ],
            "source": "from sklearn import svm\nclf = svm.SVC(kernel='rbf')\nclf.fit(X_train, y_train) "
        },
        {
            "cell_type": "code",
            "execution_count": 95,
            "metadata": {},
            "outputs": [
                {
                    "data": {
                        "text/plain": "array([2, 2, 2, 1, 2])"
                    },
                    "execution_count": 95,
                    "metadata": {},
                    "output_type": "execute_result"
                }
            ],
            "source": "yhat1 = clf.predict(X_test)\nyhat1 [0:5]"
        },
        {
            "cell_type": "code",
            "execution_count": 90,
            "metadata": {},
            "outputs": [
                {
                    "name": "stdout",
                    "output_type": "stream",
                    "text": "done\n"
                }
            ],
            "source": "from sklearn.metrics import classification_report, confusion_matrix\nimport itertools\nprint('done')"
        },
        {
            "cell_type": "code",
            "execution_count": 113,
            "metadata": {},
            "outputs": [],
            "source": "def plot_confusion_matrix(cm, classes,\n                          normalize=False,\n                          title='Confusion matrix',\n                          cmap=plt.cm.Blues):\n\n    if normalize:\n        cm = cm.astype('float') / cm.sum(axis=1)[:, np.newaxis]\n        print(\"Normalized confusion matrix\")\n    else:\n        print('Confusion matrix, without normalization')\n\n    print(cm)\n\n    plt.imshow(cm, interpolation='nearest', cmap=cmap)\n    plt.title(title)\n    plt.colorbar()\n    tick_marks = np.arange(len(classes))\n    plt.xticks(tick_marks, classes, rotation=45)\n    plt.yticks(tick_marks, classes)\n\n    fmt = '.2f' if normalize else 'd'\n    thresh = cm.max() / 2.\n    for i, j in itertools.product(range(cm.shape[0]), range(cm.shape[1])):\n        plt.text(j, i, format(cm[i, j], fmt),\n                 horizontalalignment=\"center\",\n                 color=\"white\" if cm[i, j] > thresh else \"black\")\n\n    plt.tight_layout()\n    plt.ylabel('True label')\n    plt.xlabel('Predicted label')"
        },
        {
            "cell_type": "code",
            "execution_count": 97,
            "metadata": {},
            "outputs": [
                {
                    "name": "stdout",
                    "output_type": "stream",
                    "text": "              precision    recall  f1-score   support\n\n           1       0.62      0.33      0.43     27269\n           2       0.54      0.80      0.65     27325\n\n   micro avg       0.56      0.56      0.56     54594\n   macro avg       0.58      0.56      0.54     54594\nweighted avg       0.58      0.56      0.54     54594\n\nConfusion matrix, without normalization\n[[21762     0]\n [    0     0]]\n"
                },
                {
                    "data": {
                        "image/png": "[encoded data removed]",
                        "text/plain": "<Figure size 432x288 with 2 Axes>"
                    },
                    "metadata": {
                        "needs_background": "light"
                    },
                    "output_type": "display_data"
                }
            ],
            "source": "cnf_matrix = confusion_matrix(y_test, yhat, labels=[2,4])\nnp.set_printoptions(precision=2)\n\nprint (classification_report(y_test, yhat))\n\nplt.figure()\nplot_confusion_matrix(cnf_matrix, classes=['low(1)','Hight(2)'],normalize= False,  title='Confusion matrix')"
        },
        {
            "cell_type": "code",
            "execution_count": 98,
            "metadata": {},
            "outputs": [
                {
                    "data": {
                        "text/plain": "0.5396870915656901"
                    },
                    "execution_count": 98,
                    "metadata": {},
                    "output_type": "execute_result"
                }
            ],
            "source": "from sklearn.metrics import f1_score\nf1_score(y_test, yhat1, average='weighted') "
        },
        {
            "cell_type": "code",
            "execution_count": 99,
            "metadata": {},
            "outputs": [
                {
                    "data": {
                        "text/plain": "0.5645125838004176"
                    },
                    "execution_count": 99,
                    "metadata": {},
                    "output_type": "execute_result"
                }
            ],
            "source": "from sklearn.metrics import jaccard_similarity_score\njaccard_similarity_score(y_test, yhat1)"
        },
        {
            "cell_type": "markdown",
            "metadata": {},
            "source": "## D.4.Logistic Regression"
        },
        {
            "cell_type": "code",
            "execution_count": 96,
            "metadata": {},
            "outputs": [
                {
                    "name": "stdout",
                    "output_type": "stream",
                    "text": "done\n"
                }
            ],
            "source": "import pandas as pd\nimport pylab as pl\nimport numpy as np\nimport scipy.optimize as opt\nfrom sklearn import preprocessing\n%matplotlib inline \nimport matplotlib.pyplot as plt\nprint('done')"
        },
        {
            "cell_type": "code",
            "execution_count": 100,
            "metadata": {},
            "outputs": [
                {
                    "data": {
                        "text/html": "<div>\n<style scoped>\n    .dataframe tbody tr th:only-of-type {\n        vertical-align: middle;\n    }\n\n    .dataframe tbody tr th {\n        vertical-align: top;\n    }\n\n    .dataframe thead th {\n        text-align: right;\n    }\n</style>\n<table border=\"1\" class=\"dataframe\">\n  <thead>\n    <tr style=\"text-align: right;\">\n      <th></th>\n      <th>SEVERITYCODE</th>\n      <th>ROADCOND</th>\n      <th>LIGHTCOND</th>\n      <th>WEATHER</th>\n      <th>ROADCOND_cat</th>\n      <th>LIGHCOND_cat</th>\n      <th>WEATHER_cat</th>\n    </tr>\n  </thead>\n  <tbody>\n    <tr>\n      <th>56683</th>\n      <td>2</td>\n      <td>Dry</td>\n      <td>Daylight</td>\n      <td>Clear</td>\n      <td>0</td>\n      <td>5</td>\n      <td>1</td>\n    </tr>\n    <tr>\n      <th>130515</th>\n      <td>2</td>\n      <td>Dry</td>\n      <td>Dark - Street Lights On</td>\n      <td>Clear</td>\n      <td>0</td>\n      <td>2</td>\n      <td>1</td>\n    </tr>\n    <tr>\n      <th>41583</th>\n      <td>2</td>\n      <td>Dry</td>\n      <td>Daylight</td>\n      <td>Clear</td>\n      <td>0</td>\n      <td>5</td>\n      <td>1</td>\n    </tr>\n    <tr>\n      <th>106219</th>\n      <td>2</td>\n      <td>Wet</td>\n      <td>Daylight</td>\n      <td>Raining</td>\n      <td>8</td>\n      <td>5</td>\n      <td>6</td>\n    </tr>\n    <tr>\n      <th>137952</th>\n      <td>2</td>\n      <td>Dry</td>\n      <td>Daylight</td>\n      <td>Clear</td>\n      <td>0</td>\n      <td>5</td>\n      <td>1</td>\n    </tr>\n  </tbody>\n</table>\n</div>",
                        "text/plain": "        SEVERITYCODE ROADCOND                LIGHTCOND  WEATHER  ROADCOND_cat  \\\n56683              2      Dry                 Daylight    Clear             0   \n130515             2      Dry  Dark - Street Lights On    Clear             0   \n41583              2      Dry                 Daylight    Clear             0   \n106219             2      Wet                 Daylight  Raining             8   \n137952             2      Dry                 Daylight    Clear             0   \n\n        LIGHCOND_cat  WEATHER_cat  \n56683              5            1  \n130515             2            1  \n41583              5            1  \n106219             5            6  \n137952             5            1  "
                    },
                    "execution_count": 100,
                    "metadata": {},
                    "output_type": "execute_result"
                }
            ],
            "source": "df_over.head()"
        },
        {
            "cell_type": "code",
            "execution_count": 101,
            "metadata": {},
            "outputs": [],
            "source": "df_over=df_over[['SEVERITYCODE','ROADCOND_cat','LIGHCOND_cat','WEATHER_cat']].astype('int')\n"
        },
        {
            "cell_type": "code",
            "execution_count": 102,
            "metadata": {},
            "outputs": [
                {
                    "data": {
                        "text/plain": "array([[0, 5, 1],\n       [0, 2, 1],\n       [0, 5, 1],\n       [8, 5, 6],\n       [0, 5, 1]])"
                    },
                    "execution_count": 102,
                    "metadata": {},
                    "output_type": "execute_result"
                }
            ],
            "source": "X2= np.asarray(df_over[['ROADCOND_cat','LIGHCOND_cat','WEATHER_cat']])\nX2[0:5]"
        },
        {
            "cell_type": "code",
            "execution_count": 103,
            "metadata": {},
            "outputs": [
                {
                    "data": {
                        "text/plain": "array([2, 2, 2, 2, 2])"
                    },
                    "execution_count": 103,
                    "metadata": {},
                    "output_type": "execute_result"
                }
            ],
            "source": "y2 = np.asarray(df_over['SEVERITYCODE'])\ny2 [0:5]"
        },
        {
            "cell_type": "code",
            "execution_count": 104,
            "metadata": {},
            "outputs": [
                {
                    "data": {
                        "text/plain": "array([[-0.67,  0.43, -0.67],\n       [-0.67, -1.22, -0.67],\n       [-0.67,  0.43, -0.67],\n       [ 1.53,  0.43,  1.15],\n       [-0.67,  0.43, -0.67]])"
                    },
                    "execution_count": 104,
                    "metadata": {},
                    "output_type": "execute_result"
                }
            ],
            "source": "from sklearn import preprocessing\nX2 = preprocessing.StandardScaler().fit(X).transform(X)\nX[0:5]"
        },
        {
            "cell_type": "code",
            "execution_count": 105,
            "metadata": {},
            "outputs": [
                {
                    "name": "stdout",
                    "output_type": "stream",
                    "text": "Train set: (218376, 3) (218376,)\nTest set: (54594, 3) (54594,)\n"
                }
            ],
            "source": "from sklearn.model_selection import train_test_split\nX_train, X_test, y_train, y_test = train_test_split( X2, y2, test_size=0.2, random_state=4)\nprint ('Train set:', X_train.shape,  y_train.shape)\nprint ('Test set:', X_test.shape,  y_test.shape)"
        },
        {
            "cell_type": "code",
            "execution_count": 106,
            "metadata": {},
            "outputs": [
                {
                    "data": {
                        "text/plain": "LogisticRegression(C=0.01, class_weight=None, dual=False, fit_intercept=True,\n          intercept_scaling=1, max_iter=100, multi_class='warn',\n          n_jobs=None, penalty='l2', random_state=None, solver='liblinear',\n          tol=0.0001, verbose=0, warm_start=False)"
                    },
                    "execution_count": 106,
                    "metadata": {},
                    "output_type": "execute_result"
                }
            ],
            "source": "from sklearn.linear_model import LogisticRegression\nfrom sklearn.metrics import confusion_matrix\nLR = LogisticRegression(C=0.01, solver='liblinear').fit(X_train,y_train)\nLR"
        },
        {
            "cell_type": "code",
            "execution_count": 107,
            "metadata": {},
            "outputs": [
                {
                    "data": {
                        "text/plain": "array([2, 2, 1, ..., 2, 2, 2])"
                    },
                    "execution_count": 107,
                    "metadata": {},
                    "output_type": "execute_result"
                }
            ],
            "source": "yhat = LR.predict(X_test)\nyhat"
        },
        {
            "cell_type": "code",
            "execution_count": 108,
            "metadata": {},
            "outputs": [
                {
                    "data": {
                        "text/plain": "array([[0.47, 0.53],\n       [0.47, 0.53],\n       [0.54, 0.46],\n       ...,\n       [0.47, 0.53],\n       [0.47, 0.53],\n       [0.47, 0.53]])"
                    },
                    "execution_count": 108,
                    "metadata": {},
                    "output_type": "execute_result"
                }
            ],
            "source": "yhat_prob = LR.predict_proba(X_test)\nyhat_prob"
        },
        {
            "cell_type": "code",
            "execution_count": 109,
            "metadata": {},
            "outputs": [
                {
                    "data": {
                        "text/plain": "0.5302231014397186"
                    },
                    "execution_count": 109,
                    "metadata": {},
                    "output_type": "execute_result"
                }
            ],
            "source": "from sklearn.metrics import jaccard_similarity_score\njaccard_similarity_score(y_test, yhat)"
        },
        {
            "cell_type": "code",
            "execution_count": 110,
            "metadata": {},
            "outputs": [
                {
                    "name": "stdout",
                    "output_type": "stream",
                    "text": "Confusion matrix, without normalization\n[[9838    0]\n [   0    0]]\n"
                },
                {
                    "data": {
                        "image/png": "[encoded data removed]",
                        "text/plain": "<Figure size 432x288 with 2 Axes>"
                    },
                    "metadata": {
                        "needs_background": "light"
                    },
                    "output_type": "display_data"
                }
            ],
            "source": "# Compute confusion matrix\ncnf_matrix = confusion_matrix(y_test, yhat, labels=[1,0])\nnp.set_printoptions(precision=2)\n\n\n# Plot non-normalized confusion matrix\nplt.figure()\nplot_confusion_matrix(cnf_matrix, classes=['churn=1','churn=0'],normalize= False,  title='Confusion matrix')"
        },
        {
            "cell_type": "code",
            "execution_count": 111,
            "metadata": {},
            "outputs": [
                {
                    "name": "stdout",
                    "output_type": "stream",
                    "text": "              precision    recall  f1-score   support\n\n           1       0.54      0.36      0.43     27269\n           2       0.52      0.70      0.60     27325\n\n   micro avg       0.53      0.53      0.53     54594\n   macro avg       0.53      0.53      0.52     54594\nweighted avg       0.53      0.53      0.52     54594\n\n"
                }
            ],
            "source": "print (classification_report(y_test, yhat))\n"
        },
        {
            "cell_type": "code",
            "execution_count": 112,
            "metadata": {},
            "outputs": [
                {
                    "data": {
                        "text/plain": "0.6837272764804886"
                    },
                    "execution_count": 112,
                    "metadata": {},
                    "output_type": "execute_result"
                }
            ],
            "source": "from sklearn.metrics import log_loss\nlog_loss(y_test, yhat_prob)"
        },
        {
            "cell_type": "code",
            "execution_count": null,
            "metadata": {},
            "outputs": [],
            "source": ""
        }
    ],
    "metadata": {
        "kernelspec": {
            "display_name": "Python 3.6",
            "language": "python",
            "name": "python3"
        },
        "language_info": {
            "codemirror_mode": {
                "name": "ipython",
                "version": 3
            },
            "file_extension": ".py",
            "mimetype": "text/x-python",
            "name": "python",
            "nbconvert_exporter": "python",
            "pygments_lexer": "ipython3",
            "version": "3.6.9"
        }
    },
    "nbformat": 4,
    "nbformat_minor": 1
}